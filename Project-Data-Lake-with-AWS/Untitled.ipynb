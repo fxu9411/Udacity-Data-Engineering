{
 "cells": [
  {
   "cell_type": "code",
   "execution_count": 9,
   "metadata": {
    "editable": true
   },
   "outputs": [],
   "source": [
    "import os\n",
    "from pyspark.sql import SparkSession\n",
    "from pyspark.sql.functions import udf, col, monotonically_increasing_id\n",
    "from pyspark.sql.functions import year, month, dayofmonth, hour, weekofyear, dayofweek, date_format\n",
    "from pyspark.sql.types import TimestampType"
   ]
  },
  {
   "cell_type": "code",
   "execution_count": 10,
   "metadata": {
    "editable": true
   },
   "outputs": [],
   "source": [
    "spark = SparkSession \\\n",
    "        .builder \\\n",
    "        .config(\"spark.jars.packages\", \"org.apache.hadoop:hadoop-aws:2.7.0\") \\\n",
    "        .getOrCreate()"
   ]
  },
  {
   "cell_type": "code",
   "execution_count": 11,
   "metadata": {
    "editable": true
   },
   "outputs": [
    {
     "name": "stdout",
     "output_type": "stream",
     "text": [
      "+--------------------+-------+-----+-------+---------+----------+--------------------+--------------------+-------------+\n",
      "|          start_time|user_id|level|song_id|artist_id|session_id|            location|          user_agent|  songplay_id|\n",
      "+--------------------+-------+-----+-------+---------+----------+--------------------+--------------------+-------------+\n",
      "|2018-11-29 22:51:...|     74| free|   null|     null|      1007|Youngstown-Warren...|\"Mozilla/5.0 (Win...|1597727834112|\n",
      "|2018-11-07 23:16:...|     54| free|   null|     null|       213|       Yuba City, CA|Mozilla/5.0 (Wind...|1597727834113|\n",
      "|2018-11-02 12:44:...|     15| paid|   null|     null|       172|Chicago-Napervill...|\"Mozilla/5.0 (X11...|1597727834114|\n",
      "|2018-11-27 19:56:...|     77| free|   null|     null|       707|Dallas-Fort Worth...|\"Mozilla/5.0 (Win...|1597727834115|\n",
      "|2018-11-19 14:19:...|     41| free|   null|     null|       477|New York-Newark-J...|Mozilla/5.0 (Wind...|1597727834116|\n",
      "+--------------------+-------+-----+-------+---------+----------+--------------------+--------------------+-------------+\n",
      "only showing top 5 rows\n",
      "\n"
     ]
    }
   ],
   "source": [
    "df = spark.read.parquet('output/songplays')\n",
    "df.show(5)"
   ]
  }
 ],
 "metadata": {
  "kernelspec": {
   "display_name": "Python 3",
   "language": "python",
   "name": "python3"
  },
  "language_info": {
   "codemirror_mode": {
    "name": "ipython",
    "version": 3
   },
   "file_extension": ".py",
   "mimetype": "text/x-python",
   "name": "python",
   "nbconvert_exporter": "python",
   "pygments_lexer": "ipython3",
   "version": "3.6.3"
  }
 },
 "nbformat": 4,
 "nbformat_minor": 4
}
